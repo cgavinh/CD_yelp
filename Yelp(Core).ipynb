{
 "cells": [
  {
   "cell_type": "markdown",
   "id": "e4414e99-fbf0-4ac1-8680-8bdd3ea96c3d",
   "metadata": {},
   "source": [
    "# Efficient Yelp API Calls (Core)\n",
    "- Coire Gavin-Hanner\n",
    "- 9/27/22"
   ]
  },
  {
   "cell_type": "markdown",
   "id": "6124c5d7-c219-4ff6-88a9-cce1c3eecfd4",
   "metadata": {},
   "source": [
    "# Objective:\n",
    "- Use Yelp API to search a city for a particular type of cuisine\n",
    "    - Here I am searching in Seattle for Ethiopian food\n",
    "- Extract all of the results and compile them into one dataframe"
   ]
  },
  {
   "cell_type": "markdown",
   "id": "bee0f96f-a08e-4d17-8c2f-b4a0acef711a",
   "metadata": {},
   "source": [
    "# Imports and Definitions"
   ]
  },
  {
   "cell_type": "code",
   "execution_count": 1,
   "id": "80a5153b-efb8-4e43-a772-d288dc00aa5c",
   "metadata": {},
   "outputs": [],
   "source": [
    "import numpy as np\n",
    "import pandas as pd\n",
    "import matplotlib.pyplot as plt\n",
    "import seaborn as sns\n",
    "import os, json, math, time\n",
    "from yelpapi import YelpAPI\n",
    "from tqdm.notebook import tqdm_notebook"
   ]
  },
  {
   "cell_type": "code",
   "execution_count": 4,
   "id": "f0524ba8-6159-4af6-ac79-3d67abaa619e",
   "metadata": {},
   "outputs": [],
   "source": [
    "def create_json_file(JSON_FILE,  replace_if_exists=False):\n",
    "    \n",
    "    ## Check if JSON_FILE exists\n",
    "    file_exists = os.path.isfile(JSON_FILE)\n",
    "    \n",
    "    ## If it DOES exist:\n",
    "    if file_exists == True:\n",
    "        \n",
    "        ## Check if user wants to delete if exists\n",
    "        if replace_if_exists==True:\n",
    "            \n",
    "            print(f\"[!] {JSON_FILE} already exists. Deleting previous file...\")\n",
    "            ## delete file and confirm it no longer exits.\n",
    "            os.remove(JSON_FILE)\n",
    "            ## Make the new file\n",
    "            folder = os.path.dirname(JSON_FILE)\n",
    "            if len(folder)>0:\n",
    "            # create the folder\n",
    "                os.makedirs(folder,exist_ok=True)\n",
    "            ## Save empty list to start the json file\n",
    "            with open(JSON_FILE,'w') as f:\n",
    "                json.dump([],f) \n",
    "        else:\n",
    "            print(f\"[i] {JSON_FILE} already exists.\")            \n",
    "            \n",
    "            \n",
    "    ## If it does NOT exist:\n",
    "    else:\n",
    "        \n",
    "        ## INFORM USER AND SAVE EMPTY LIST\n",
    "        print(f\"[i] {JSON_FILE} not found. Saving empty list to new file.\")\n",
    "        \n",
    "        ## CREATE ANY NEEDED FOLDERS\n",
    "        # Get the Folder Name only\n",
    "        folder = os.path.dirname(JSON_FILE)\n",
    "        \n",
    "        ## If JSON_FILE included a folder:\n",
    "        if len(folder)>0:\n",
    "            # create the folder\n",
    "            os.makedirs(folder,exist_ok=True)\n",
    "        ## Save empty list to start the json file\n",
    "        with open(JSON_FILE,'w') as f:\n",
    "            json.dump([],f)  "
   ]
  },
  {
   "cell_type": "markdown",
   "id": "43cdcf40-04d3-446e-8755-028acc9cbfa7",
   "metadata": {},
   "source": [
    "# Load API Credentials"
   ]
  },
  {
   "cell_type": "code",
   "execution_count": 2,
   "id": "94df7fe9-e7bc-4727-8396-2b27db62b376",
   "metadata": {},
   "outputs": [],
   "source": [
    "# Load API Credentials\n",
    "with open('/Users/coire/.secret/yelp_api.json') as f:   #use your path here!\n",
    "    login = json.load(f)\n",
    "# Instantiate YelpAPI Variable\n",
    "yelp_api = YelpAPI(login['api-key'], timeout_s=5.0)"
   ]
  },
  {
   "cell_type": "markdown",
   "id": "c2a28533-7cdf-435b-b644-c1356fab77a3",
   "metadata": {},
   "source": [
    "### Define Search"
   ]
  },
  {
   "cell_type": "code",
   "execution_count": 44,
   "id": "782cae32-1e46-4a7e-8606-274fe55cbec0",
   "metadata": {},
   "outputs": [],
   "source": [
    "# set our API call parameters \n",
    "LOCATION = 'Seattle'\n",
    "CATEGORIES = 'ethiopian'\n",
    "TERM = 'restaurant'"
   ]
  },
  {
   "cell_type": "markdown",
   "id": "414c3f13-21d9-4200-bc76-8741cd92be04",
   "metadata": {
    "tags": []
   },
   "source": [
    "# Create Results File"
   ]
  },
  {
   "cell_type": "code",
   "execution_count": 45,
   "id": "1ac539d0-4288-4561-9416-d92ead6b4641",
   "metadata": {},
   "outputs": [],
   "source": [
    "JSON_FILE = \"Data/results_in_progress_Seattle_vegan.json\""
   ]
  },
  {
   "cell_type": "code",
   "execution_count": 59,
   "id": "e434ea92-0b7e-4e21-8212-b0075b12e8bf",
   "metadata": {},
   "outputs": [
    {
     "name": "stdout",
     "output_type": "stream",
     "text": [
      "[!] Data/results_in_progress_Seattle_vegan.json already exists. Deleting previous file...\n"
     ]
    }
   ],
   "source": [
    "create_json_file(JSON_FILE, replace_if_exists=True)"
   ]
  },
  {
   "cell_type": "markdown",
   "id": "e6f65fe6-ea99-4024-85be-83765e797abc",
   "metadata": {},
   "source": [
    "# Load Previous Results and set offset/pages"
   ]
  },
  {
   "cell_type": "code",
   "execution_count": 60,
   "id": "b7ab3681-b718-4111-8eb4-75a2d72efd28",
   "metadata": {},
   "outputs": [],
   "source": [
    "with open(JSON_FILE, 'r') as f:\n",
    "    previous_results = json.load(f)\n",
    "\n",
    "n_results = len(previous_results)"
   ]
  },
  {
   "cell_type": "code",
   "execution_count": 61,
   "id": "0fe3ae43-67cd-41ec-b339-3bdededd75eb",
   "metadata": {},
   "outputs": [
    {
     "name": "stdout",
     "output_type": "stream",
     "text": [
      "- 0 previous results found.\n"
     ]
    }
   ],
   "source": [
    "print(f'- {n_results} previous results found.')"
   ]
  },
  {
   "cell_type": "code",
   "execution_count": 62,
   "id": "f8081af6-75fe-4cce-a4f9-0014d8f8d85c",
   "metadata": {},
   "outputs": [],
   "source": [
    "results = yelp_api.search_query(location=LOCATION,\n",
    "                                term=TERM,\n",
    "                                categories=CATEGORIES,\n",
    "                                offset=n_results)"
   ]
  },
  {
   "cell_type": "code",
   "execution_count": 63,
   "id": "be50063e-3063-4201-98c8-0b8d7dc1871d",
   "metadata": {},
   "outputs": [],
   "source": [
    "total_results = results['total']"
   ]
  },
  {
   "cell_type": "code",
   "execution_count": 64,
   "id": "505c6cdc-5de3-44b9-ad32-79621f7ae782",
   "metadata": {},
   "outputs": [],
   "source": [
    "results_per_page = len(results['businesses'])"
   ]
  },
  {
   "cell_type": "code",
   "execution_count": 65,
   "id": "7eb47d09-871d-4c64-b7e9-1cf5d909b34e",
   "metadata": {},
   "outputs": [
    {
     "data": {
      "text/plain": [
       "2"
      ]
     },
     "execution_count": 65,
     "metadata": {},
     "output_type": "execute_result"
    }
   ],
   "source": [
    "n_pages = math.ceil((results['total']-n_results)/ results_per_page)\n",
    "n_pages"
   ]
  },
  {
   "cell_type": "markdown",
   "id": "49c49169-e014-4e1f-b897-41f1a0bbe154",
   "metadata": {},
   "source": [
    "# Calls"
   ]
  },
  {
   "cell_type": "code",
   "execution_count": 66,
   "id": "5f1670d9-feb6-4794-b416-4f21223362c2",
   "metadata": {},
   "outputs": [
    {
     "data": {
      "application/vnd.jupyter.widget-view+json": {
       "model_id": "0217c3f3891b44e09ff28cabff0d4a82",
       "version_major": 2,
       "version_minor": 0
      },
      "text/plain": [
       "  0%|          | 0/2 [00:00<?, ?it/s]"
      ]
     },
     "metadata": {},
     "output_type": "display_data"
    }
   ],
   "source": [
    "for i in tqdm_notebook( range(1,n_pages+1)):\n",
    "    \n",
    "    ## Read in results in progress file and check the length\n",
    "    with open(JSON_FILE, 'r') as f:\n",
    "        previous_results = json.load(f)\n",
    "    ## save number of results for to use as offset\n",
    "    n_results = len(previous_results)\n",
    "    \n",
    "    if (n_results + results_per_page) > 1000:\n",
    "        print('Exceeded 1000 api calls. Stopping loop.')\n",
    "        break\n",
    "    \n",
    "    ## use n_results as the OFFSET \n",
    "    results = yelp_api.search_query(location=LOCATION,\n",
    "                                    term=TERM,\n",
    "                                    categories=CATEGORIES,\n",
    "                                    offset=n_results)\n",
    "    \n",
    "    \n",
    "    \n",
    "    ## append new results and save to file\n",
    "    previous_results.extend(results['businesses'])\n",
    "    \n",
    "    # display(previous_results)\n",
    "    with open(JSON_FILE,'w') as f:\n",
    "        json.dump(previous_results,f)\n",
    "    \n",
    "    time.sleep(.2)"
   ]
  },
  {
   "cell_type": "markdown",
   "id": "afbbc03b-e655-487a-851d-1955305b164c",
   "metadata": {},
   "source": [
    "# Extract results to Dataframe"
   ]
  },
  {
   "cell_type": "code",
   "execution_count": 67,
   "id": "b2cc1106-e602-4885-86e2-d74c80c6b3d7",
   "metadata": {},
   "outputs": [
    {
     "data": {
      "text/html": [
       "<div>\n",
       "<style scoped>\n",
       "    .dataframe tbody tr th:only-of-type {\n",
       "        vertical-align: middle;\n",
       "    }\n",
       "\n",
       "    .dataframe tbody tr th {\n",
       "        vertical-align: top;\n",
       "    }\n",
       "\n",
       "    .dataframe thead th {\n",
       "        text-align: right;\n",
       "    }\n",
       "</style>\n",
       "<table border=\"1\" class=\"dataframe\">\n",
       "  <thead>\n",
       "    <tr style=\"text-align: right;\">\n",
       "      <th></th>\n",
       "      <th>id</th>\n",
       "      <th>alias</th>\n",
       "      <th>name</th>\n",
       "      <th>image_url</th>\n",
       "      <th>is_closed</th>\n",
       "      <th>url</th>\n",
       "      <th>review_count</th>\n",
       "      <th>categories</th>\n",
       "      <th>rating</th>\n",
       "      <th>coordinates</th>\n",
       "      <th>transactions</th>\n",
       "      <th>price</th>\n",
       "      <th>location</th>\n",
       "      <th>phone</th>\n",
       "      <th>display_phone</th>\n",
       "      <th>distance</th>\n",
       "    </tr>\n",
       "  </thead>\n",
       "  <tbody>\n",
       "    <tr>\n",
       "      <th>0</th>\n",
       "      <td>aMHOtT5WI4inmIV8kavmIw</td>\n",
       "      <td>adey-abeba-ethiopian-restaurant-seattle</td>\n",
       "      <td>Adey Abeba Ethiopian Restaurant</td>\n",
       "      <td>https://s3-media1.fl.yelpcdn.com/bphoto/nQPg8h...</td>\n",
       "      <td>False</td>\n",
       "      <td>https://www.yelp.com/biz/adey-abeba-ethiopian-...</td>\n",
       "      <td>188</td>\n",
       "      <td>[{'alias': 'ethiopian', 'title': 'Ethiopian'}]</td>\n",
       "      <td>4.5</td>\n",
       "      <td>{'latitude': 47.61279550818363, 'longitude': -...</td>\n",
       "      <td>[delivery]</td>\n",
       "      <td>$$</td>\n",
       "      <td>{'address1': '2123 E Union St', 'address2': ''...</td>\n",
       "      <td>12063221617</td>\n",
       "      <td>(206) 322-1617</td>\n",
       "      <td>2757.012161</td>\n",
       "    </tr>\n",
       "    <tr>\n",
       "      <th>1</th>\n",
       "      <td>9bZtK6ca9AXFlv3FX9sRPQ</td>\n",
       "      <td>adulis-eritrean-and-ethiopian-restaurant-seattle</td>\n",
       "      <td>Adulis Eritrean and Ethiopian Restaurant</td>\n",
       "      <td>https://s3-media3.fl.yelpcdn.com/bphoto/ZTUHU_...</td>\n",
       "      <td>False</td>\n",
       "      <td>https://www.yelp.com/biz/adulis-eritrean-and-e...</td>\n",
       "      <td>6</td>\n",
       "      <td>[{'alias': 'eritrean', 'title': 'Eritrean'}, {...</td>\n",
       "      <td>4.0</td>\n",
       "      <td>{'latitude': 47.70562, 'longitude': -122.35578}</td>\n",
       "      <td>[]</td>\n",
       "      <td>NaN</td>\n",
       "      <td>{'address1': '10515 Greenwood Ave N', 'address...</td>\n",
       "      <td>12069205973</td>\n",
       "      <td>(206) 920-5973</td>\n",
       "      <td>9049.703501</td>\n",
       "    </tr>\n",
       "    <tr>\n",
       "      <th>2</th>\n",
       "      <td>mVe-ouCiPHElEXaAyfv1IA</td>\n",
       "      <td>café-soleil-seattle-2</td>\n",
       "      <td>Café Soleil</td>\n",
       "      <td>https://s3-media4.fl.yelpcdn.com/bphoto/oTv0zX...</td>\n",
       "      <td>False</td>\n",
       "      <td>https://www.yelp.com/biz/caf%C3%A9-soleil-seat...</td>\n",
       "      <td>87</td>\n",
       "      <td>[{'alias': 'ethiopian', 'title': 'Ethiopian'},...</td>\n",
       "      <td>4.5</td>\n",
       "      <td>{'latitude': 47.61311, 'longitude': -122.28909}</td>\n",
       "      <td>[delivery]</td>\n",
       "      <td>$$</td>\n",
       "      <td>{'address1': '1400 34th Ave', 'address2': '', ...</td>\n",
       "      <td>12063251126</td>\n",
       "      <td>(206) 325-1126</td>\n",
       "      <td>3741.392104</td>\n",
       "    </tr>\n",
       "    <tr>\n",
       "      <th>3</th>\n",
       "      <td>uiuHZbOXHYXmV9ahQXNIZA</td>\n",
       "      <td>shewa-ber-bar-and-restaurant-seattle</td>\n",
       "      <td>Shewa-Ber Bar &amp; Restaurant</td>\n",
       "      <td>https://s3-media3.fl.yelpcdn.com/bphoto/QiGeQ4...</td>\n",
       "      <td>False</td>\n",
       "      <td>https://www.yelp.com/biz/shewa-ber-bar-and-res...</td>\n",
       "      <td>19</td>\n",
       "      <td>[{'alias': 'ethiopian', 'title': 'Ethiopian'},...</td>\n",
       "      <td>5.0</td>\n",
       "      <td>{'latitude': 47.5993552129099, 'longitude': -1...</td>\n",
       "      <td>[]</td>\n",
       "      <td>NaN</td>\n",
       "      <td>{'address1': '1801 S Jackson St', 'address2': ...</td>\n",
       "      <td>14252239000</td>\n",
       "      <td>(425) 223-9000</td>\n",
       "      <td>3535.354311</td>\n",
       "    </tr>\n",
       "    <tr>\n",
       "      <th>4</th>\n",
       "      <td>-ZvCzmfQltMYgiGb_niOnQ</td>\n",
       "      <td>cafe-selam-seattle</td>\n",
       "      <td>Cafe Selam</td>\n",
       "      <td>https://s3-media3.fl.yelpcdn.com/bphoto/QbT0A1...</td>\n",
       "      <td>False</td>\n",
       "      <td>https://www.yelp.com/biz/cafe-selam-seattle?ad...</td>\n",
       "      <td>330</td>\n",
       "      <td>[{'alias': 'ethiopian', 'title': 'Ethiopian'}]</td>\n",
       "      <td>4.5</td>\n",
       "      <td>{'latitude': 47.60779, 'longitude': -122.29707}</td>\n",
       "      <td>[delivery]</td>\n",
       "      <td>$$</td>\n",
       "      <td>{'address1': '2715 E Cherry St', 'address2': '...</td>\n",
       "      <td>12063280404</td>\n",
       "      <td>(206) 328-0404</td>\n",
       "      <td>3482.878449</td>\n",
       "    </tr>\n",
       "  </tbody>\n",
       "</table>\n",
       "</div>"
      ],
      "text/plain": [
       "                       id                                             alias  \\\n",
       "0  aMHOtT5WI4inmIV8kavmIw           adey-abeba-ethiopian-restaurant-seattle   \n",
       "1  9bZtK6ca9AXFlv3FX9sRPQ  adulis-eritrean-and-ethiopian-restaurant-seattle   \n",
       "2  mVe-ouCiPHElEXaAyfv1IA                             café-soleil-seattle-2   \n",
       "3  uiuHZbOXHYXmV9ahQXNIZA              shewa-ber-bar-and-restaurant-seattle   \n",
       "4  -ZvCzmfQltMYgiGb_niOnQ                                cafe-selam-seattle   \n",
       "\n",
       "                                       name  \\\n",
       "0           Adey Abeba Ethiopian Restaurant   \n",
       "1  Adulis Eritrean and Ethiopian Restaurant   \n",
       "2                               Café Soleil   \n",
       "3                Shewa-Ber Bar & Restaurant   \n",
       "4                                Cafe Selam   \n",
       "\n",
       "                                           image_url  is_closed  \\\n",
       "0  https://s3-media1.fl.yelpcdn.com/bphoto/nQPg8h...      False   \n",
       "1  https://s3-media3.fl.yelpcdn.com/bphoto/ZTUHU_...      False   \n",
       "2  https://s3-media4.fl.yelpcdn.com/bphoto/oTv0zX...      False   \n",
       "3  https://s3-media3.fl.yelpcdn.com/bphoto/QiGeQ4...      False   \n",
       "4  https://s3-media3.fl.yelpcdn.com/bphoto/QbT0A1...      False   \n",
       "\n",
       "                                                 url  review_count  \\\n",
       "0  https://www.yelp.com/biz/adey-abeba-ethiopian-...           188   \n",
       "1  https://www.yelp.com/biz/adulis-eritrean-and-e...             6   \n",
       "2  https://www.yelp.com/biz/caf%C3%A9-soleil-seat...            87   \n",
       "3  https://www.yelp.com/biz/shewa-ber-bar-and-res...            19   \n",
       "4  https://www.yelp.com/biz/cafe-selam-seattle?ad...           330   \n",
       "\n",
       "                                          categories  rating  \\\n",
       "0     [{'alias': 'ethiopian', 'title': 'Ethiopian'}]     4.5   \n",
       "1  [{'alias': 'eritrean', 'title': 'Eritrean'}, {...     4.0   \n",
       "2  [{'alias': 'ethiopian', 'title': 'Ethiopian'},...     4.5   \n",
       "3  [{'alias': 'ethiopian', 'title': 'Ethiopian'},...     5.0   \n",
       "4     [{'alias': 'ethiopian', 'title': 'Ethiopian'}]     4.5   \n",
       "\n",
       "                                         coordinates transactions price  \\\n",
       "0  {'latitude': 47.61279550818363, 'longitude': -...   [delivery]    $$   \n",
       "1    {'latitude': 47.70562, 'longitude': -122.35578}           []   NaN   \n",
       "2    {'latitude': 47.61311, 'longitude': -122.28909}   [delivery]    $$   \n",
       "3  {'latitude': 47.5993552129099, 'longitude': -1...           []   NaN   \n",
       "4    {'latitude': 47.60779, 'longitude': -122.29707}   [delivery]    $$   \n",
       "\n",
       "                                            location        phone  \\\n",
       "0  {'address1': '2123 E Union St', 'address2': ''...  12063221617   \n",
       "1  {'address1': '10515 Greenwood Ave N', 'address...  12069205973   \n",
       "2  {'address1': '1400 34th Ave', 'address2': '', ...  12063251126   \n",
       "3  {'address1': '1801 S Jackson St', 'address2': ...  14252239000   \n",
       "4  {'address1': '2715 E Cherry St', 'address2': '...  12063280404   \n",
       "\n",
       "    display_phone     distance  \n",
       "0  (206) 322-1617  2757.012161  \n",
       "1  (206) 920-5973  9049.703501  \n",
       "2  (206) 325-1126  3741.392104  \n",
       "3  (425) 223-9000  3535.354311  \n",
       "4  (206) 328-0404  3482.878449  "
      ]
     },
     "metadata": {},
     "output_type": "display_data"
    },
    {
     "data": {
      "text/html": [
       "<div>\n",
       "<style scoped>\n",
       "    .dataframe tbody tr th:only-of-type {\n",
       "        vertical-align: middle;\n",
       "    }\n",
       "\n",
       "    .dataframe tbody tr th {\n",
       "        vertical-align: top;\n",
       "    }\n",
       "\n",
       "    .dataframe thead th {\n",
       "        text-align: right;\n",
       "    }\n",
       "</style>\n",
       "<table border=\"1\" class=\"dataframe\">\n",
       "  <thead>\n",
       "    <tr style=\"text-align: right;\">\n",
       "      <th></th>\n",
       "      <th>id</th>\n",
       "      <th>alias</th>\n",
       "      <th>name</th>\n",
       "      <th>image_url</th>\n",
       "      <th>is_closed</th>\n",
       "      <th>url</th>\n",
       "      <th>review_count</th>\n",
       "      <th>categories</th>\n",
       "      <th>rating</th>\n",
       "      <th>coordinates</th>\n",
       "      <th>transactions</th>\n",
       "      <th>price</th>\n",
       "      <th>location</th>\n",
       "      <th>phone</th>\n",
       "      <th>display_phone</th>\n",
       "      <th>distance</th>\n",
       "    </tr>\n",
       "  </thead>\n",
       "  <tbody>\n",
       "    <tr>\n",
       "      <th>31</th>\n",
       "      <td>Nq2QBSPq40WZgUzXD93u7w</td>\n",
       "      <td>blue-nile-seattle-2</td>\n",
       "      <td>Blue Nile</td>\n",
       "      <td>https://s3-media2.fl.yelpcdn.com/bphoto/x4METy...</td>\n",
       "      <td>False</td>\n",
       "      <td>https://www.yelp.com/biz/blue-nile-seattle-2?a...</td>\n",
       "      <td>56</td>\n",
       "      <td>[{'alias': 'ethiopian', 'title': 'Ethiopian'}]</td>\n",
       "      <td>4.0</td>\n",
       "      <td>{'latitude': 47.53196, 'longitude': -122.2706}</td>\n",
       "      <td>[delivery, pickup]</td>\n",
       "      <td>$</td>\n",
       "      <td>{'address1': '7821 Rainier Ave S', 'address2':...</td>\n",
       "      <td>12063208501</td>\n",
       "      <td>(206) 320-8501</td>\n",
       "      <td>11474.303088</td>\n",
       "    </tr>\n",
       "    <tr>\n",
       "      <th>32</th>\n",
       "      <td>5IQopbLST4fHUitX4W0V1w</td>\n",
       "      <td>kaffa-coffee-and-wine-bar-seattle-2</td>\n",
       "      <td>Kaffa Coffee &amp; Wine Bar</td>\n",
       "      <td>https://s3-media1.fl.yelpcdn.com/bphoto/BgA9tv...</td>\n",
       "      <td>False</td>\n",
       "      <td>https://www.yelp.com/biz/kaffa-coffee-and-wine...</td>\n",
       "      <td>65</td>\n",
       "      <td>[{'alias': 'ethiopian', 'title': 'Ethiopian'},...</td>\n",
       "      <td>4.5</td>\n",
       "      <td>{'latitude': 47.5298805, 'longitude': -122.269...</td>\n",
       "      <td>[delivery, pickup]</td>\n",
       "      <td>$$</td>\n",
       "      <td>{'address1': '8136 Rainier Ave S', 'address2':...</td>\n",
       "      <td>12064533558</td>\n",
       "      <td>(206) 453-3558</td>\n",
       "      <td>11721.818344</td>\n",
       "    </tr>\n",
       "    <tr>\n",
       "      <th>33</th>\n",
       "      <td>aXM_hRDLrvgX87_jUUQy5g</td>\n",
       "      <td>paradise-restaurant-seattle</td>\n",
       "      <td>Paradise Restaurant</td>\n",
       "      <td></td>\n",
       "      <td>False</td>\n",
       "      <td>https://www.yelp.com/biz/paradise-restaurant-s...</td>\n",
       "      <td>4</td>\n",
       "      <td>[{'alias': 'ethiopian', 'title': 'Ethiopian'}]</td>\n",
       "      <td>4.5</td>\n",
       "      <td>{'latitude': 47.5373712765657, 'longitude': -1...</td>\n",
       "      <td>[delivery]</td>\n",
       "      <td>NaN</td>\n",
       "      <td>{'address1': '7250 Rainier Ave S', 'address2':...</td>\n",
       "      <td>12066594106</td>\n",
       "      <td>(206) 659-4106</td>\n",
       "      <td>10944.137819</td>\n",
       "    </tr>\n",
       "    <tr>\n",
       "      <th>34</th>\n",
       "      <td>M_REjnKHx8HQk-5DnL-C0A</td>\n",
       "      <td>monona-cafe-and-restaurant-seattle</td>\n",
       "      <td>Monona Cafe and Restaurant</td>\n",
       "      <td>https://s3-media2.fl.yelpcdn.com/bphoto/hzGNCF...</td>\n",
       "      <td>False</td>\n",
       "      <td>https://www.yelp.com/biz/monona-cafe-and-resta...</td>\n",
       "      <td>11</td>\n",
       "      <td>[{'alias': 'ethiopian', 'title': 'Ethiopian'},...</td>\n",
       "      <td>4.0</td>\n",
       "      <td>{'latitude': 47.5408671047097, 'longitude': -1...</td>\n",
       "      <td>[delivery, pickup]</td>\n",
       "      <td>$</td>\n",
       "      <td>{'address1': '6754 Martin Luther King Jr S', '...</td>\n",
       "      <td>12067660607</td>\n",
       "      <td>(206) 766-0607</td>\n",
       "      <td>10198.404587</td>\n",
       "    </tr>\n",
       "    <tr>\n",
       "      <th>35</th>\n",
       "      <td>PJHQqeUaiVQg96cyCnexJA</td>\n",
       "      <td>ethio-market-seattle</td>\n",
       "      <td>Ethio Market</td>\n",
       "      <td>https://s3-media2.fl.yelpcdn.com/bphoto/nYG4QN...</td>\n",
       "      <td>False</td>\n",
       "      <td>https://www.yelp.com/biz/ethio-market-seattle?...</td>\n",
       "      <td>2</td>\n",
       "      <td>[{'alias': 'ethiopian', 'title': 'Ethiopian'},...</td>\n",
       "      <td>3.0</td>\n",
       "      <td>{'latitude': 47.5270146, 'longitude': -122.26955}</td>\n",
       "      <td>[]</td>\n",
       "      <td>NaN</td>\n",
       "      <td>{'address1': '8432 Rainier Ave S', 'address2':...</td>\n",
       "      <td>12067258389</td>\n",
       "      <td>(206) 725-8389</td>\n",
       "      <td>12008.755122</td>\n",
       "    </tr>\n",
       "  </tbody>\n",
       "</table>\n",
       "</div>"
      ],
      "text/plain": [
       "                        id                                alias  \\\n",
       "31  Nq2QBSPq40WZgUzXD93u7w                  blue-nile-seattle-2   \n",
       "32  5IQopbLST4fHUitX4W0V1w  kaffa-coffee-and-wine-bar-seattle-2   \n",
       "33  aXM_hRDLrvgX87_jUUQy5g          paradise-restaurant-seattle   \n",
       "34  M_REjnKHx8HQk-5DnL-C0A   monona-cafe-and-restaurant-seattle   \n",
       "35  PJHQqeUaiVQg96cyCnexJA                 ethio-market-seattle   \n",
       "\n",
       "                          name  \\\n",
       "31                   Blue Nile   \n",
       "32     Kaffa Coffee & Wine Bar   \n",
       "33         Paradise Restaurant   \n",
       "34  Monona Cafe and Restaurant   \n",
       "35                Ethio Market   \n",
       "\n",
       "                                            image_url  is_closed  \\\n",
       "31  https://s3-media2.fl.yelpcdn.com/bphoto/x4METy...      False   \n",
       "32  https://s3-media1.fl.yelpcdn.com/bphoto/BgA9tv...      False   \n",
       "33                                                         False   \n",
       "34  https://s3-media2.fl.yelpcdn.com/bphoto/hzGNCF...      False   \n",
       "35  https://s3-media2.fl.yelpcdn.com/bphoto/nYG4QN...      False   \n",
       "\n",
       "                                                  url  review_count  \\\n",
       "31  https://www.yelp.com/biz/blue-nile-seattle-2?a...            56   \n",
       "32  https://www.yelp.com/biz/kaffa-coffee-and-wine...            65   \n",
       "33  https://www.yelp.com/biz/paradise-restaurant-s...             4   \n",
       "34  https://www.yelp.com/biz/monona-cafe-and-resta...            11   \n",
       "35  https://www.yelp.com/biz/ethio-market-seattle?...             2   \n",
       "\n",
       "                                           categories  rating  \\\n",
       "31     [{'alias': 'ethiopian', 'title': 'Ethiopian'}]     4.0   \n",
       "32  [{'alias': 'ethiopian', 'title': 'Ethiopian'},...     4.5   \n",
       "33     [{'alias': 'ethiopian', 'title': 'Ethiopian'}]     4.5   \n",
       "34  [{'alias': 'ethiopian', 'title': 'Ethiopian'},...     4.0   \n",
       "35  [{'alias': 'ethiopian', 'title': 'Ethiopian'},...     3.0   \n",
       "\n",
       "                                          coordinates        transactions  \\\n",
       "31     {'latitude': 47.53196, 'longitude': -122.2706}  [delivery, pickup]   \n",
       "32  {'latitude': 47.5298805, 'longitude': -122.269...  [delivery, pickup]   \n",
       "33  {'latitude': 47.5373712765657, 'longitude': -1...          [delivery]   \n",
       "34  {'latitude': 47.5408671047097, 'longitude': -1...  [delivery, pickup]   \n",
       "35  {'latitude': 47.5270146, 'longitude': -122.26955}                  []   \n",
       "\n",
       "   price                                           location        phone  \\\n",
       "31     $  {'address1': '7821 Rainier Ave S', 'address2':...  12063208501   \n",
       "32    $$  {'address1': '8136 Rainier Ave S', 'address2':...  12064533558   \n",
       "33   NaN  {'address1': '7250 Rainier Ave S', 'address2':...  12066594106   \n",
       "34     $  {'address1': '6754 Martin Luther King Jr S', '...  12067660607   \n",
       "35   NaN  {'address1': '8432 Rainier Ave S', 'address2':...  12067258389   \n",
       "\n",
       "     display_phone      distance  \n",
       "31  (206) 320-8501  11474.303088  \n",
       "32  (206) 453-3558  11721.818344  \n",
       "33  (206) 659-4106  10944.137819  \n",
       "34  (206) 766-0607  10198.404587  \n",
       "35  (206) 725-8389  12008.755122  "
      ]
     },
     "metadata": {},
     "output_type": "display_data"
    }
   ],
   "source": [
    "# load final results\n",
    "final_df = pd.read_json(JSON_FILE)\n",
    "display(final_df.head(), final_df.tail())"
   ]
  },
  {
   "cell_type": "markdown",
   "id": "c3b8ae5b-7693-477e-b688-8d0a47af886c",
   "metadata": {},
   "source": [
    "## List of Restaurants"
   ]
  },
  {
   "cell_type": "code",
   "execution_count": 68,
   "id": "b6c47ae4-7b98-491a-b31f-25d432a20af6",
   "metadata": {},
   "outputs": [
    {
     "data": {
      "text/plain": [
       "0               adey-abeba-ethiopian-restaurant-seattle\n",
       "1      adulis-eritrean-and-ethiopian-restaurant-seattle\n",
       "2                                 café-soleil-seattle-2\n",
       "3                  shewa-ber-bar-and-restaurant-seattle\n",
       "4                                    cafe-selam-seattle\n",
       "5                                     chef-cafe-seattle\n",
       "6                                    ras-dashen-seattle\n",
       "7                             alem-restaurant-seattle-2\n",
       "8                    delish-ethiopian-cuisine-seattle-2\n",
       "9                                     cafe-ibex-seattle\n",
       "10                                queen-sheba-seattle-3\n",
       "11          east-african-imports-and-restaurant-seattle\n",
       "12                                  jebena-cafe-seattle\n",
       "13                 zagol-ethiopian-restaurant-seattle-3\n",
       "14                                  sunset-cafe-seattle\n",
       "15                                        zobel-seattle\n",
       "16                                kezira-cafe-seattle-3\n",
       "17                                 habesha-cafe-seattle\n",
       "18                             sabah-restaurant-seattle\n",
       "19                     genis-ethiopian-corner-seattle-2\n",
       "20                  meskel-ethiopian-restaurant-seattle\n",
       "21    massawa-eritrean-and-ethiopian-restaurant-seattle\n",
       "22               agelgil-ethiopian-restaurant-seattle-3\n",
       "23                   red-sea-bar-and-restaurant-seattle\n",
       "24                                    hahu-cafe-seattle\n",
       "25           fidel-ethiopian-bar-n-restaurant-seattle-2\n",
       "26               wonder-coffee-and-sports-bar-seattle-5\n",
       "27                    enat-ethiopian-restaurant-seattle\n",
       "28                   ahadu-ethiopian-restaurant-seattle\n",
       "29                  sheger-ethiopian-restaurant-seattle\n",
       "30                                fanas-cuisine-seattle\n",
       "31                                  blue-nile-seattle-2\n",
       "32                  kaffa-coffee-and-wine-bar-seattle-2\n",
       "33                          paradise-restaurant-seattle\n",
       "34                   monona-cafe-and-restaurant-seattle\n",
       "35                                 ethio-market-seattle\n",
       "Name: alias, dtype: object"
      ]
     },
     "execution_count": 68,
     "metadata": {},
     "output_type": "execute_result"
    }
   ],
   "source": [
    "final_df['alias']"
   ]
  },
  {
   "cell_type": "code",
   "execution_count": null,
   "id": "ee889a1a-5a49-48d8-b454-6ee2851c1e71",
   "metadata": {},
   "outputs": [],
   "source": []
  }
 ],
 "metadata": {
  "kernelspec": {
   "display_name": "Python [conda env:dojo-env] *",
   "language": "python",
   "name": "conda-env-dojo-env-py"
  },
  "language_info": {
   "codemirror_mode": {
    "name": "ipython",
    "version": 3
   },
   "file_extension": ".py",
   "mimetype": "text/x-python",
   "name": "python",
   "nbconvert_exporter": "python",
   "pygments_lexer": "ipython3",
   "version": "3.8.13"
  }
 },
 "nbformat": 4,
 "nbformat_minor": 5
}
